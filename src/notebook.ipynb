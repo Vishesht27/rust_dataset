{
 "cells": [
  {
   "cell_type": "code",
   "execution_count": 1,
   "id": "76a9c523-72a8-4a3a-acff-36a30ea0f83f",
   "metadata": {},
   "outputs": [],
   "source": [
    "import pandas as pd"
   ]
  },
  {
   "cell_type": "code",
   "execution_count": 2,
   "id": "1c2248b8-8941-4bd2-94de-847a20b6ca04",
   "metadata": {},
   "outputs": [
    {
     "data": {
      "text/html": [
       "<div>\n",
       "<style scoped>\n",
       "    .dataframe tbody tr th:only-of-type {\n",
       "        vertical-align: middle;\n",
       "    }\n",
       "\n",
       "    .dataframe tbody tr th {\n",
       "        vertical-align: top;\n",
       "    }\n",
       "\n",
       "    .dataframe thead th {\n",
       "        text-align: right;\n",
       "    }\n",
       "</style>\n",
       "<table border=\"1\" class=\"dataframe\">\n",
       "  <thead>\n",
       "    <tr style=\"text-align: right;\">\n",
       "      <th></th>\n",
       "      <th>crate_name</th>\n",
       "      <th>input_data</th>\n",
       "      <th>output_data</th>\n",
       "      <th>task_category</th>\n",
       "    </tr>\n",
       "  </thead>\n",
       "  <tbody>\n",
       "    <tr>\n",
       "      <th>0</th>\n",
       "      <td>tokio-tungstenite</td>\n",
       "      <td>{\"buggy_code\": \"impl&lt;S&gt; Read for AllowStd&lt;S&gt;\\n...</td>\n",
       "      <td>{\"fixed_code\": \"impl&lt;S&gt; Read for AllowStd&lt;S&gt;\\n...</td>\n",
       "      <td>bug_detection</td>\n",
       "    </tr>\n",
       "    <tr>\n",
       "      <th>1</th>\n",
       "      <td>tokio-tungstenite</td>\n",
       "      <td>{\"buggy_code\": \"async fn process_message(messa...</td>\n",
       "      <td>{\"fixed_code\": \"async fn process_message(messa...</td>\n",
       "      <td>bug_detection</td>\n",
       "    </tr>\n",
       "    <tr>\n",
       "      <th>2</th>\n",
       "      <td>datafusion-datasource-csv</td>\n",
       "      <td>{\"code\": \"pub fn with_delimiter(&amp;self, delimit...</td>\n",
       "      <td>{\"commented_code\": \"pub fn with_delimiter(&amp;sel...</td>\n",
       "      <td>comment_generation</td>\n",
       "    </tr>\n",
       "    <tr>\n",
       "      <th>3</th>\n",
       "      <td>datafusion-datasource-csv</td>\n",
       "      <td>{\"code\": \"fn open&lt;R: Read&gt;(&amp;self, reader: R) -...</td>\n",
       "      <td>{\"commented_code\": \"fn open&lt;R: Read&gt;(&amp;self, re...</td>\n",
       "      <td>comment_generation</td>\n",
       "    </tr>\n",
       "    <tr>\n",
       "      <th>4</th>\n",
       "      <td>datafusion-datasource-csv</td>\n",
       "      <td>{\"code\": \"pub fn with_has_header(mut self, has...</td>\n",
       "      <td>{\"commented_code\": \"pub fn with_has_header(mut...</td>\n",
       "      <td>comment_generation</td>\n",
       "    </tr>\n",
       "  </tbody>\n",
       "</table>\n",
       "</div>"
      ],
      "text/plain": [
       "                  crate_name  \\\n",
       "0          tokio-tungstenite   \n",
       "1          tokio-tungstenite   \n",
       "2  datafusion-datasource-csv   \n",
       "3  datafusion-datasource-csv   \n",
       "4  datafusion-datasource-csv   \n",
       "\n",
       "                                          input_data  \\\n",
       "0  {\"buggy_code\": \"impl<S> Read for AllowStd<S>\\n...   \n",
       "1  {\"buggy_code\": \"async fn process_message(messa...   \n",
       "2  {\"code\": \"pub fn with_delimiter(&self, delimit...   \n",
       "3  {\"code\": \"fn open<R: Read>(&self, reader: R) -...   \n",
       "4  {\"code\": \"pub fn with_has_header(mut self, has...   \n",
       "\n",
       "                                         output_data       task_category  \n",
       "0  {\"fixed_code\": \"impl<S> Read for AllowStd<S>\\n...       bug_detection  \n",
       "1  {\"fixed_code\": \"async fn process_message(messa...       bug_detection  \n",
       "2  {\"commented_code\": \"pub fn with_delimiter(&sel...  comment_generation  \n",
       "3  {\"commented_code\": \"fn open<R: Read>(&self, re...  comment_generation  \n",
       "4  {\"commented_code\": \"pub fn with_has_header(mut...  comment_generation  "
      ]
     },
     "execution_count": 2,
     "metadata": {},
     "output_type": "execute_result"
    }
   ],
   "source": [
    "df = pd.read_csv('data/rust_dataset_100k.csv')\n",
    "df.head()"
   ]
  },
  {
   "cell_type": "code",
   "execution_count": 3,
   "id": "b5aae354-eeb5-450f-91e7-ef157826d473",
   "metadata": {},
   "outputs": [
    {
     "data": {
      "text/plain": [
       "100000"
      ]
     },
     "execution_count": 3,
     "metadata": {},
     "output_type": "execute_result"
    }
   ],
   "source": [
    "len(df)"
   ]
  },
  {
   "cell_type": "code",
   "execution_count": 6,
   "id": "ad9471b0-d005-431d-abea-77f770a2d367",
   "metadata": {},
   "outputs": [
    {
     "data": {
      "text/plain": [
       "task_category\n",
       "docstring_generation    9921\n",
       "code_explanation        8249\n",
       "comment_generation      8201\n",
       "code_generation         8102\n",
       "code_search             7981\n",
       "code_summarization      7179\n",
       "code_review             7137\n",
       "test_generation         6247\n",
       "code_refactoring        6147\n",
       "variable_naming         5925\n",
       "function_naming         5828\n",
       "api_usage_prediction    5619\n",
       "bug_detection           5059\n",
       "code_optimization       4419\n",
       "code_completion         3986\n",
       "Name: count, dtype: int64"
      ]
     },
     "execution_count": 6,
     "metadata": {},
     "output_type": "execute_result"
    }
   ],
   "source": [
    "df['task_category'].value_counts()"
   ]
  },
  {
   "cell_type": "code",
   "execution_count": null,
   "id": "f93c124d-a788-4802-babd-e27ad0f5fcf0",
   "metadata": {},
   "outputs": [],
   "source": []
  },
  {
   "cell_type": "code",
   "execution_count": null,
   "id": "bba40dc5-911b-4674-9433-e8bcf8c1e281",
   "metadata": {},
   "outputs": [],
   "source": []
  }
 ],
 "metadata": {
  "kernelspec": {
   "display_name": "testing_env",
   "language": "python",
   "name": "testing_env"
  },
  "language_info": {
   "codemirror_mode": {
    "name": "ipython",
    "version": 3
   },
   "file_extension": ".py",
   "mimetype": "text/x-python",
   "name": "python",
   "nbconvert_exporter": "python",
   "pygments_lexer": "ipython3",
   "version": "3.12.8"
  }
 },
 "nbformat": 4,
 "nbformat_minor": 5
}
